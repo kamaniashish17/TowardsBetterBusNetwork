{
 "cells": [
  {
   "cell_type": "code",
   "execution_count": 1,
   "id": "c2828942-9e1d-44a0-b814-b7e8a1f0e38b",
   "metadata": {},
   "outputs": [
    {
     "name": "stderr",
     "output_type": "stream",
     "text": [
      "IOPub data rate exceeded.\n",
      "The Jupyter server will temporarily stop sending output\n",
      "to the client in order to avoid crashing it.\n",
      "To change this limit, set the config variable\n",
      "`--ServerApp.iopub_data_rate_limit`.\n",
      "\n",
      "Current values:\n",
      "ServerApp.iopub_data_rate_limit=1000000.0 (bytes/sec)\n",
      "ServerApp.rate_limit_window=3.0 (secs)\n",
      "\n"
     ]
    },
    {
     "ename": "KeyboardInterrupt",
     "evalue": "",
     "output_type": "error",
     "traceback": [
      "\u001b[0;31m---------------------------------------------------------------------------\u001b[0m",
      "\u001b[0;31mKeyboardInterrupt\u001b[0m                         Traceback (most recent call last)",
      "Cell \u001b[0;32mIn[1], line 49\u001b[0m\n\u001b[1;32m     47\u001b[0m \u001b[38;5;66;03m# Print all found combinations\u001b[39;00m\n\u001b[1;32m     48\u001b[0m \u001b[38;5;28;01mfor\u001b[39;00m combination \u001b[38;5;129;01min\u001b[39;00m all_non_overlapping_combinations:\n\u001b[0;32m---> 49\u001b[0m     \u001b[38;5;28;43mprint\u001b[39;49m\u001b[43m(\u001b[49m\u001b[43mcombination\u001b[49m\u001b[43m)\u001b[49m\n",
      "\u001b[0;31mKeyboardInterrupt\u001b[0m: "
     ]
    }
   ],
   "source": [
    "import pandas as pd\n",
    "import ast\n",
    "from itertools import combinations\n",
    "\n",
    "bus_stops_path = 'BusStops.csv'\n",
    "bus_routes_path = 'BusRoutes_edited.csv'\n",
    "bus_stops = pd.read_csv(bus_stops_path)\n",
    "bus_routes = pd.read_csv(bus_routes_path)\n",
    "\n",
    "bus_stops['Routes'] = bus_stops['Routes'].apply(ast.literal_eval)\n",
    "\n",
    "route_to_stops = {}\n",
    "for index, row in bus_stops.iterrows():\n",
    "    routes_tuple = tuple(sorted(row['Routes']))\n",
    "    if routes_tuple in route_to_stops:\n",
    "        route_to_stops[routes_tuple].append(row['StopName'])\n",
    "    else:\n",
    "        route_to_stops[routes_tuple] = [row['StopName']]\n",
    "\n",
    "\n",
    "def find_limited_non_overlapping_combinations(route_dict, max_size=3):\n",
    "    keys = list(route_dict.keys())\n",
    "    valid_combinations = []\n",
    "    seen_combinations = set() \n",
    "    for r in range(1, max_size + 1):\n",
    "        for combo in combinations(keys, r):\n",
    "            sorted_combo = tuple(sorted(combo))  \n",
    "            if sorted_combo in seen_combinations:\n",
    "                continue\n",
    "            seen_combinations.add(sorted_combo)\n",
    "\n",
    "            all_routes = set()\n",
    "            overlap = False\n",
    "            for key in combo:\n",
    "                current_routes = set(key)\n",
    "                if current_routes & all_routes:\n",
    "                    overlap = True\n",
    "                    break\n",
    "                all_routes.update(current_routes)\n",
    "            if not overlap:\n",
    "                valid_combinations.append({k: route_dict[k] for k in combo})\n",
    "    return valid_combinations\n",
    "\n",
    "diverse_route_to_stops = {k: v for k, v in route_to_stops.items() if len(k) > 1}\n",
    "\n",
    "all_non_overlapping_combinations = find_limited_non_overlapping_combinations(diverse_route_to_stops, max_size=3)"
   ]
  },
  {
   "cell_type": "code",
   "execution_count": null,
   "id": "a69c3c29-5f49-4f46-ad71-145f83c1459a",
   "metadata": {},
   "outputs": [],
   "source": []
  }
 ],
 "metadata": {
  "kernelspec": {
   "display_name": "Python 3 (ipykernel)",
   "language": "python",
   "name": "python3"
  },
  "language_info": {
   "codemirror_mode": {
    "name": "ipython",
    "version": 3
   },
   "file_extension": ".py",
   "mimetype": "text/x-python",
   "name": "python",
   "nbconvert_exporter": "python",
   "pygments_lexer": "ipython3",
   "version": "3.10.13"
  }
 },
 "nbformat": 4,
 "nbformat_minor": 5
}
